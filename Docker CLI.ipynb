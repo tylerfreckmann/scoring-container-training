{
 "cells": [
  {
   "cell_type": "code",
   "execution_count": 1,
   "metadata": {},
   "outputs": [
    {
     "name": "stdout",
     "output_type": "stream",
     "text": [
      "Loading configuration properties...\n",
      "Initializing kubernetes configuration... minikube\n",
      "Initialized kubernetes configuration.\n",
      "  verbose: False\n",
      "  model.repo.host: http://honxin.modelmanager.sashq-d.openstack.sas.com\n",
      "  provider.type: Dev\n",
      "  base.repo: docker.sas.com/honxin/\n",
      "  base.repo.web.url: docker.sas.com/repository/honxin/\n",
      "  kubernetes.context: minikube\n",
      "===================================\n"
     ]
    },
    {
     "data": {
      "text/plain": [
       "True"
      ]
     },
     "execution_count": 1,
     "metadata": {},
     "output_type": "execute_result"
    }
   ],
   "source": [
    "from mm_docker_lib import *\n",
    "initConfig()"
   ]
  },
  {
   "cell_type": "code",
   "execution_count": 2,
   "metadata": {},
   "outputs": [
    {
     "name": "stdout",
     "output_type": "stream",
     "text": [
      "Model name svm (pipeline 1)\n",
      "Model UUID d00bb4e3-0672-4e9a-a877-39249d2a98ab\n",
      "Model version 63.0\n",
      "Project name MySVM\n",
      "Score Code Type ds2MultiType\n",
      "Image URL (not verified): docker.sas.com/honxin/svm-pipeline-1_d00bb4e3-0672-4e9a-a877-39249d2a98ab:latest\n",
      "==========================\n"
     ]
    }
   ],
   "source": [
    "listmodel(\"svm\")"
   ]
  },
  {
   "cell_type": "code",
   "execution_count": 4,
   "metadata": {},
   "outputs": [
    {
     "name": "stdout",
     "output_type": "stream",
     "text": [
      "Help on function launch in module mm_docker_lib:\n",
      "\n",
      "launch(image_url)\n",
      "    * submit request to kubernetes to start a pod instance\n",
      "    * return deployment_name and service url\n",
      "\n"
     ]
    }
   ],
   "source": [
    "help(launch)"
   ]
  },
  {
   "cell_type": "code",
   "execution_count": 3,
   "metadata": {},
   "outputs": [
    {
     "name": "stdout",
     "output_type": "stream",
     "text": [
      "Downloading model d00bb4e3-0672-4e9a-a877-39249d2a98ab from model repository...\n",
      "Copying astore from shared directory...\n",
      "Building image...\n",
      "Pushing to repo...\n",
      "Pushed. Please verify it at docker.sas.com/repository/honxin/svm-pipeline-1_d00bb4e3-0672-4e9a-a877-39249d2a98ab/\n",
      "Model image URL: docker.sas.com/honxin/svm-pipeline-1_d00bb4e3-0672-4e9a-a877-39249d2a98ab:latest\n"
     ]
    },
    {
     "data": {
      "text/plain": [
       "'docker.sas.com/honxin/svm-pipeline-1_d00bb4e3-0672-4e9a-a877-39249d2a98ab:latest'"
      ]
     },
     "execution_count": 3,
     "metadata": {},
     "output_type": "execute_result"
    }
   ],
   "source": [
    "publish(\"d00bb4e3-0672-4e9a-a877-39249d2a98ab\")"
   ]
  },
  {
   "cell_type": "code",
   "execution_count": 5,
   "metadata": {},
   "outputs": [
    {
     "name": "stdout",
     "output_type": "stream",
     "text": [
      "Validating image repository url...\n",
      "Completed validation.\n",
      "Launching container instance...\n",
      "Deployment created. \n",
      "Deployment name:  svm-pipeline-1-jax9la\n",
      "Service created.\n",
      "Getting service url...\n",
      "Service URL:  http://10.23.13.194:32485\n",
      "Checking whether the instance is up or not...\n",
      "Instance is up!\n"
     ]
    },
    {
     "data": {
      "text/plain": [
       "('svm-pipeline-1-jax9la', 'http://10.23.13.194:32485')"
      ]
     },
     "execution_count": 5,
     "metadata": {},
     "output_type": "execute_result"
    }
   ],
   "source": [
    "launch(\"docker.sas.com/honxin/svm-pipeline-1_d00bb4e3-0672-4e9a-a877-39249d2a98ab:latest\")"
   ]
  },
  {
   "cell_type": "code",
   "execution_count": 6,
   "metadata": {},
   "outputs": [
    {
     "name": "stdout",
     "output_type": "stream",
     "text": [
      "Performing scoring in the container instance...\n",
      "The test_id from score execution: 1551883882.8024826\n"
     ]
    },
    {
     "data": {
      "text/plain": [
       "'1551883882.8024826'"
      ]
     },
     "execution_count": 6,
     "metadata": {},
     "output_type": "execute_result"
    }
   ],
   "source": [
    "execute(\"http://10.23.13.194:32485\", \"hmeq.csv\")"
   ]
  },
  {
   "cell_type": "code",
   "execution_count": 7,
   "metadata": {},
   "outputs": [
    {
     "name": "stdout",
     "output_type": "stream",
     "text": [
      "The test result has been retrieved and written into file 1551883882.8024826.csv\n",
      "Head is the first 5 lines\n",
      "EM_CLASSIFICATION,EM_EVENTPROBABILITY,EM_PROBABILITY,I_BAD,P_BAD0,P_BAD1,_P_,_WARN_\n",
      "0                               ,3.5255933e-05,0.9999648,0                               ,0.9999648,3.5255933e-05,1.0000224,\n",
      "0                               ,4.455951e-05,0.9999554,0                               ,0.9999554,4.455951e-05,1.0000038,\n",
      "0                               ,3.431873e-05,0.99996567,0                               ,0.99996567,3.431873e-05,1.0000242,\n",
      "1                               ,1.0,1.0,1                               ,0.0,1.0,-1.1583366,\n"
     ]
    },
    {
     "data": {
      "text/plain": [
       "'1551883882.8024826.csv'"
      ]
     },
     "execution_count": 7,
     "metadata": {},
     "output_type": "execute_result"
    }
   ],
   "source": [
    "query(service_url=\"http://10.23.13.194:32485\",test_id=\"1551883882.8024826\")"
   ]
  },
  {
   "cell_type": "code",
   "execution_count": null,
   "metadata": {},
   "outputs": [],
   "source": [
    "stop(deployment_name=\"svm-pipeline-1-jax9la\")"
   ]
  },
  {
   "cell_type": "code",
   "execution_count": null,
   "metadata": {},
   "outputs": [],
   "source": [
    "score(\"docker.sas.com/honxin/svm-pipeline-1_d00bb4e3-0672-4e9a-a877-39249d2a98ab:latest\", \"hmeq.csv\")"
   ]
  },
  {
   "cell_type": "code",
   "execution_count": null,
   "metadata": {},
   "outputs": [],
   "source": [
    "listmodel(\"xgboost\")"
   ]
  },
  {
   "cell_type": "code",
   "execution_count": null,
   "metadata": {},
   "outputs": [],
   "source": [
    "setVerbose(True)\n",
    "publish(\"2fd01d3e-ac53-406d-86cd-ac3cc9557c57\")"
   ]
  },
  {
   "cell_type": "code",
   "execution_count": null,
   "metadata": {},
   "outputs": [],
   "source": [
    "setVerbose(True)\n",
    "launch(\"docker.sas.com/honxin/xgboost_2fd01d3e-ac53-406d-86cd-ac3cc9557c57:latest\")"
   ]
  },
  {
   "cell_type": "code",
   "execution_count": null,
   "metadata": {},
   "outputs": [],
   "source": [
    "execute(\"http://10.23.13.194:30456\",\"xg_sample.csv\")"
   ]
  },
  {
   "cell_type": "code",
   "execution_count": null,
   "metadata": {},
   "outputs": [],
   "source": [
    "help(query)"
   ]
  },
  {
   "cell_type": "code",
   "execution_count": null,
   "metadata": {},
   "outputs": [],
   "source": [
    "import swat\n",
    "import os"
   ]
  },
  {
   "cell_type": "code",
   "execution_count": null,
   "metadata": {},
   "outputs": [],
   "source": [
    "filename= \"c:/test/SGF2019/vault-ca.crt\"\n",
    "print(os.path.isfile(filename))\n",
    "# setup the CAS server settings\n",
    "# client certificate from CAS server /opt/sas/viya/config/etc/SASSecurityCertificateFramework/cacerts/vault-ca.crt\n",
    "# got ERROR: The TCP/IP negClientSSL support routine failed with status 807ff008.\n",
    "# in Windows. The error code means the certifcate file was not located!\n",
    "# according to doc or q/a in ask.unx.sas.com, it is better to use REST call in Windows env\n",
    "os.environ[\"CAS_CLIENT_SSL_CA_LIST\"] = 'c:/test/SGF2019/vault-ca.crt'\n",
    "casServer = 'summer.edmt.sashq-d.openstack.sas.com'\n",
    "#casServer='honxin.modelmanager.sashq-d.openstack.sas.com'\n",
    "casPort = 5570\n",
    "casuser = 'edmdev'\n",
    "mycas = swat.CAS(casServer,casPort,casuser,'Go4thsas')\n",
    "#mycas=swat.CAS(hostname=casServer,port=casPort,username='edmdev',password='{SAS002}94FD31094983BB1700E83122560D9CFB')\n"
   ]
  },
  {
   "cell_type": "code",
   "execution_count": null,
   "metadata": {},
   "outputs": [],
   "source": []
  }
 ],
 "metadata": {
  "kernelspec": {
   "display_name": "Python 3",
   "language": "python",
   "name": "python3"
  },
  "language_info": {
   "codemirror_mode": {
    "name": "ipython",
    "version": 3
   },
   "file_extension": ".py",
   "mimetype": "text/x-python",
   "name": "python",
   "nbconvert_exporter": "python",
   "pygments_lexer": "ipython3",
   "version": "3.6.7"
  }
 },
 "nbformat": 4,
 "nbformat_minor": 2
}
