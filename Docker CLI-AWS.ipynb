{
 "cells": [
  {
   "cell_type": "markdown",
   "metadata": {},
   "source": [
    "# Prepare Amazon resources: IAM role, Cluster VPC, EKS Cluster, EKS worker nodes\n",
    "\n",
    "# Config node security group to accept incoming traffic from the machine running utility\n",
    "\n",
    "# Install awscli and Python boto3 package\n",
    "\n",
    "# Update Kubeconfig entry\n",
    "> aws eks --region us-east-1 update-kubeconfig --name [cluster name]\n",
    "\n",
    "# Download iam authenticator, AWS Kubectl\n",
    "\n",
    "# Download aws-auth-cmd and enable worker nodes to join EKS cluster\n",
    "> kubectl apply -f aws-auth-cm.yaml\n",
    "\n",
    "\n",
    "# Set active AWS profile\n",
    "> getawskey -a --duration 43200\n",
    "> set AWS_PROFILE=XXXXXX\n",
    "\n",
    "# Configure 'AWS' section in cli.properties\n"
   ]
  },
  {
   "cell_type": "code",
   "execution_count": 1,
   "metadata": {},
   "outputs": [
    {
     "name": "stdout",
     "output_type": "stream",
     "text": [
      "Loading configuration properties...\n",
      "Login into AWS ECR...\n",
      "Login AWS ECR succeeded!\n",
      "Initializing kubernetes configuration... arn:aws:eks:us-east-1:617292774228:cluster/mm-docker-models-eks\n",
      "Initialized kubernetes configuration.\n",
      "  verbose: False\n",
      "  model.repo.host: http://honxin.modelmanager.sashq-d.openstack.sas.com\n",
      "  provider.type: AWS\n",
      "  base.repo: 617292774228.dkr.ecr.us-east-1.amazonaws.com/\n",
      "  base.repo.web.url: console.aws.amazon.com/ecr/repositories/\n",
      "  kubernetes.context: arn:aws:eks:us-east-1:617292774228:cluster/mm-docker-models-eks\n",
      "===================================\n"
     ]
    },
    {
     "data": {
      "text/plain": [
       "True"
      ]
     },
     "execution_count": 1,
     "metadata": {},
     "output_type": "execute_result"
    }
   ],
   "source": [
    "from mm_docker_lib import *\n",
    "initConfig(\"AWS\")"
   ]
  },
  {
   "cell_type": "code",
   "execution_count": 2,
   "metadata": {},
   "outputs": [
    {
     "name": "stdout",
     "output_type": "stream",
     "text": [
      "Model name svm (pipeline 1)\n",
      "Model UUID d00bb4e3-0672-4e9a-a877-39249d2a98ab\n",
      "Model version 63.0\n",
      "Project name MySVM\n",
      "Score Code Type ds2MultiType\n",
      "Image URL (not verified): 617292774228.dkr.ecr.us-east-1.amazonaws.com/svm-pipeline-1_d00bb4e3-0672-4e9a-a877-39249d2a98ab:latest\n",
      "==========================\n"
     ]
    }
   ],
   "source": [
    "listmodel(\"svm\")"
   ]
  },
  {
   "cell_type": "code",
   "execution_count": null,
   "metadata": {},
   "outputs": [],
   "source": [
    "listmodel(\"all\")"
   ]
  },
  {
   "cell_type": "code",
   "execution_count": 3,
   "metadata": {},
   "outputs": [
    {
     "name": "stdout",
     "output_type": "stream",
     "text": [
      "Downloading model d00bb4e3-0672-4e9a-a877-39249d2a98ab from model repository...\n",
      "Copying astore from shared directory...\n",
      "Building image...\n",
      "Creating remote repo svm-pipeline-1_d00bb4e3-0672-4e9a-a877-39249d2a98ab in AWS ECR...\n",
      "Pushing to repo...\n",
      "Pushed. Please verify it at console.aws.amazon.com/ecr/repositories/svm-pipeline-1_d00bb4e3-0672-4e9a-a877-39249d2a98ab/\n",
      "Model image URL: 617292774228.dkr.ecr.us-east-1.amazonaws.com/svm-pipeline-1_d00bb4e3-0672-4e9a-a877-39249d2a98ab:latest\n"
     ]
    },
    {
     "data": {
      "text/plain": [
       "'617292774228.dkr.ecr.us-east-1.amazonaws.com/svm-pipeline-1_d00bb4e3-0672-4e9a-a877-39249d2a98ab:latest'"
      ]
     },
     "execution_count": 3,
     "metadata": {},
     "output_type": "execute_result"
    }
   ],
   "source": [
    "publish(\"d00bb4e3-0672-4e9a-a877-39249d2a98ab\")"
   ]
  },
  {
   "cell_type": "code",
   "execution_count": 4,
   "metadata": {},
   "outputs": [
    {
     "name": "stdout",
     "output_type": "stream",
     "text": [
      "Validating image repository url...\n",
      "Completed validation.\n",
      "Launching container instance...\n",
      "Deployment created. \n",
      "Deployment name:  svm-pipeline-1-p60skq\n",
      "Service created.\n",
      "Getting service url...\n",
      "Service URL:  http://54.147.111.130:30980\n",
      "Checking whether the instance is up or not...\n",
      "Instance is up!\n"
     ]
    },
    {
     "data": {
      "text/plain": [
       "('svm-pipeline-1-p60skq', 'http://54.147.111.130:30980')"
      ]
     },
     "execution_count": 4,
     "metadata": {},
     "output_type": "execute_result"
    }
   ],
   "source": [
    "launch(\"617292774228.dkr.ecr.us-east-1.amazonaws.com/svm-pipeline-1_d00bb4e3-0672-4e9a-a877-39249d2a98ab:latest\")"
   ]
  },
  {
   "cell_type": "code",
   "execution_count": 5,
   "metadata": {},
   "outputs": [
    {
     "name": "stdout",
     "output_type": "stream",
     "text": [
      "Performing scoring in the container instance...\n",
      "The test_id from score execution: 1551888724.661739\n"
     ]
    },
    {
     "data": {
      "text/plain": [
       "'1551888724.661739'"
      ]
     },
     "execution_count": 5,
     "metadata": {},
     "output_type": "execute_result"
    }
   ],
   "source": [
    "execute(\"http://54.147.111.130:30980\", \"hmeq.csv\")"
   ]
  },
  {
   "cell_type": "code",
   "execution_count": 6,
   "metadata": {},
   "outputs": [
    {
     "name": "stdout",
     "output_type": "stream",
     "text": [
      "The test result has been retrieved and written into file 1551888724.661739.csv\n",
      "Head is the first 5 lines\n",
      "EM_CLASSIFICATION,EM_EVENTPROBABILITY,EM_PROBABILITY,I_BAD,P_BAD0,P_BAD1,_P_,_WARN_\n",
      "0                               ,3.5255933e-05,0.9999648,0                               ,0.9999648,3.5255933e-05,1.0000224,\n",
      "0                               ,4.455951e-05,0.9999554,0                               ,0.9999554,4.455951e-05,1.0000038,\n",
      "0                               ,3.431873e-05,0.99996567,0                               ,0.99996567,3.431873e-05,1.0000242,\n",
      "1                               ,1.0,1.0,1                               ,0.0,1.0,-1.1583366,\n"
     ]
    },
    {
     "data": {
      "text/plain": [
       "'1551888724.661739.csv'"
      ]
     },
     "execution_count": 6,
     "metadata": {},
     "output_type": "execute_result"
    }
   ],
   "source": [
    "query(service_url=\"http://54.147.111.130:30980\",test_id=\"1551888724.661739\")"
   ]
  },
  {
   "cell_type": "code",
   "execution_count": 7,
   "metadata": {},
   "outputs": [
    {
     "name": "stdout",
     "output_type": "stream",
     "text": [
      "Deleting service svm-pipeline-1-p60skq\n",
      "deleted svc/svm-pipeline-1-p60skq from ns/default\n",
      "Deleting app deployment... svm-pipeline-1-p60skq\n",
      "Deletion succeeded\n"
     ]
    }
   ],
   "source": [
    "stop(deployment_name=\"svm-pipeline-1-p60skq\")"
   ]
  },
  {
   "cell_type": "code",
   "execution_count": null,
   "metadata": {},
   "outputs": [],
   "source": [
    "score(\"617292774228.dkr.ecr.us-east-1.amazonaws.com/svm-pipeline-1_d00bb4e3-0672-4e9a-a877-39249d2a98ab:latest\", \"hmeq.csv\")"
   ]
  },
  {
   "cell_type": "code",
   "execution_count": null,
   "metadata": {},
   "outputs": [],
   "source": [
    "help(query)"
   ]
  }
 ],
 "metadata": {
  "kernelspec": {
   "display_name": "Python 3",
   "language": "python",
   "name": "python3"
  },
  "language_info": {
   "codemirror_mode": {
    "name": "ipython",
    "version": 3
   },
   "file_extension": ".py",
   "mimetype": "text/x-python",
   "name": "python",
   "nbconvert_exporter": "python",
   "pygments_lexer": "ipython3",
   "version": "3.6.7"
  }
 },
 "nbformat": 4,
 "nbformat_minor": 2
}
