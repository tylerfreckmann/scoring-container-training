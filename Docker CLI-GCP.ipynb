{
 "cells": [
  {
   "cell_type": "markdown",
   "metadata": {},
   "source": [
    "# Enable APIs (Container, Kubernetes) in Google Cloud Platform\n",
    "\n",
    "# Create cluster in console\n",
    "\n",
    "# Install Google Cloud SDK\n",
    "\n",
    "# Configure Docker to use gcloud tool to authenticate requests\n",
    "> gcloud auth configure-docker\n",
    "\n",
    "# Download auth token key from console and put it in the directory\n",
    "> API & Services -> Credentials: create credentials > Service account key\n",
    "\n",
    "# Fetch cluster endpoint and auth data and update kubeconfig entry\n",
    "\n",
    "> gcloud container clusters get-credentials mm-docker-models-gke --zone us-east4-a [--project <project name>]\n",
    "\n",
    "# Configure firewall to allow the node port range (30000-32767)\n",
    "> gcloud compute firewall-rules create gke-rule --allow tcp:30000-32767\n",
    "\n",
    "\n",
    "# Configure 'GCP' section in cli.properties\n"
   ]
  },
  {
   "cell_type": "code",
   "execution_count": 1,
   "metadata": {},
   "outputs": [
    {
     "name": "stdout",
     "output_type": "stream",
     "text": [
      "Loading configuration properties...\n",
      "Login into GCP GCR...\n",
      "Login GCP GCR succeeded!\n",
      "Initializing kubernetes configuration... gke_modelmanager_us-east4-a_mm-docker-models-gke\n",
      "Initialized kubernetes configuration.\n",
      "  verbose: False\n",
      "  model.repo.host: http://honxin.modelmanager.sashq-d.openstack.sas.com\n",
      "  provider.type: GCP\n",
      "  base.repo: gcr.io/modelmanager/\n",
      "  base.repo.web.url: console.cloud.google.com/gcr/images/modelmanager/GLOBAL/\n",
      "  kubernetes.context: gke_modelmanager_us-east4-a_mm-docker-models-gke\n",
      "===================================\n"
     ]
    },
    {
     "data": {
      "text/plain": [
       "True"
      ]
     },
     "execution_count": 1,
     "metadata": {},
     "output_type": "execute_result"
    }
   ],
   "source": [
    "from mm_docker_lib import *\n",
    "initConfig(\"GCP\")"
   ]
  },
  {
   "cell_type": "code",
   "execution_count": 3,
   "metadata": {},
   "outputs": [
    {
     "name": "stdout",
     "output_type": "stream",
     "text": [
      "Model name svm (pipeline 1)\n",
      "Model UUID d00bb4e3-0672-4e9a-a877-39249d2a98ab\n",
      "Model version 63.0\n",
      "Project name MySVM\n",
      "Score Code Type ds2MultiType\n",
      "Image URL (not verified): gcr.io/modelmanager/svm-pipeline-1_d00bb4e3-0672-4e9a-a877-39249d2a98ab:latest\n",
      "==========================\n"
     ]
    }
   ],
   "source": [
    "listmodel(\"svm\")"
   ]
  },
  {
   "cell_type": "code",
   "execution_count": 4,
   "metadata": {},
   "outputs": [
    {
     "name": "stdout",
     "output_type": "stream",
     "text": [
      "Downloading model d00bb4e3-0672-4e9a-a877-39249d2a98ab from model repository...\n",
      "Copying astore from shared directory...\n",
      "Building image...\n",
      "Pushing to repo...\n",
      "Pushed. Please verify it at console.cloud.google.com/gcr/images/modelmanager/GLOBAL/svm-pipeline-1_d00bb4e3-0672-4e9a-a877-39249d2a98ab/\n",
      "Model image URL: gcr.io/modelmanager/svm-pipeline-1_d00bb4e3-0672-4e9a-a877-39249d2a98ab:latest\n"
     ]
    },
    {
     "data": {
      "text/plain": [
       "'gcr.io/modelmanager/svm-pipeline-1_d00bb4e3-0672-4e9a-a877-39249d2a98ab:latest'"
      ]
     },
     "execution_count": 4,
     "metadata": {},
     "output_type": "execute_result"
    }
   ],
   "source": [
    "publish(\"d00bb4e3-0672-4e9a-a877-39249d2a98ab\")"
   ]
  },
  {
   "cell_type": "code",
   "execution_count": 5,
   "metadata": {},
   "outputs": [
    {
     "name": "stdout",
     "output_type": "stream",
     "text": [
      "Validating image repository url...\n",
      "Completed validation.\n",
      "Launching container instance...\n",
      "Deployment created. \n",
      "Deployment name:  svm-pipeline-1-cb6kcd\n",
      "Service created.\n",
      "Getting service url...\n",
      "Service URL:  http://35.194.76.110:31415\n",
      "Checking whether the instance is up or not...\n",
      "1 ==Sleep 10 seconds...\n",
      "Checking whether the instance is up or not...\n",
      "Instance is up!\n"
     ]
    },
    {
     "data": {
      "text/plain": [
       "('svm-pipeline-1-cb6kcd', 'http://35.194.76.110:31415')"
      ]
     },
     "execution_count": 5,
     "metadata": {},
     "output_type": "execute_result"
    }
   ],
   "source": [
    "launch(\"gcr.io/modelmanager/svm-pipeline-1_d00bb4e3-0672-4e9a-a877-39249d2a98ab:latest\")"
   ]
  },
  {
   "cell_type": "code",
   "execution_count": 6,
   "metadata": {},
   "outputs": [
    {
     "name": "stdout",
     "output_type": "stream",
     "text": [
      "Performing scoring in the container instance...\n",
      "The test_id from score execution: 1551893540.5150483\n"
     ]
    },
    {
     "data": {
      "text/plain": [
       "'1551893540.5150483'"
      ]
     },
     "execution_count": 6,
     "metadata": {},
     "output_type": "execute_result"
    }
   ],
   "source": [
    "execute(\"http://35.194.76.110:31415\", \"hmeq.csv\")"
   ]
  },
  {
   "cell_type": "code",
   "execution_count": 7,
   "metadata": {},
   "outputs": [
    {
     "name": "stdout",
     "output_type": "stream",
     "text": [
      "The test result has been retrieved and written into file 1551893540.5150483.csv\n",
      "Head is the first 5 lines\n",
      "EM_CLASSIFICATION,EM_EVENTPROBABILITY,EM_PROBABILITY,I_BAD,P_BAD0,P_BAD1,_P_,_WARN_\n",
      "0                               ,3.5255933e-05,0.9999648,0                               ,0.9999648,3.5255933e-05,1.0000224,\n",
      "0                               ,4.455951e-05,0.9999554,0                               ,0.9999554,4.455951e-05,1.0000038,\n",
      "0                               ,3.431873e-05,0.99996567,0                               ,0.99996567,3.431873e-05,1.0000242,\n",
      "1                               ,1.0,1.0,1                               ,0.0,1.0,-1.1583366,\n"
     ]
    },
    {
     "data": {
      "text/plain": [
       "'1551893540.5150483.csv'"
      ]
     },
     "execution_count": 7,
     "metadata": {},
     "output_type": "execute_result"
    }
   ],
   "source": [
    "query(service_url=\"http://35.194.76.110:31415\",test_id=\"1551893540.5150483\")"
   ]
  },
  {
   "cell_type": "code",
   "execution_count": 8,
   "metadata": {},
   "outputs": [
    {
     "name": "stdout",
     "output_type": "stream",
     "text": [
      "Deleting service svm-pipeline-1-cb6kcd\n",
      "deleted svc/svm-pipeline-1-cb6kcd from ns/default\n",
      "Deleting app deployment... svm-pipeline-1-cb6kcd\n",
      "Deletion succeeded\n"
     ]
    }
   ],
   "source": [
    "stop(deployment_name=\"svm-pipeline-1-cb6kcd\")"
   ]
  },
  {
   "cell_type": "code",
   "execution_count": null,
   "metadata": {},
   "outputs": [],
   "source": [
    "score(\"docker.sas.com/honxin/svm-pipeline-1_d00bb4e3-0672-4e9a-a877-39249d2a98ab:latest\", \"hmeq.csv\")"
   ]
  },
  {
   "cell_type": "markdown",
   "metadata": {},
   "source": [
    "====================="
   ]
  },
  {
   "cell_type": "code",
   "execution_count": null,
   "metadata": {},
   "outputs": [],
   "source": [
    "listmodel(\"xgboost\")"
   ]
  },
  {
   "cell_type": "code",
   "execution_count": null,
   "metadata": {},
   "outputs": [],
   "source": [
    "setVerbose(True)\n",
    "publish(\"2fd01d3e-ac53-406d-86cd-ac3cc9557c57\")"
   ]
  },
  {
   "cell_type": "code",
   "execution_count": null,
   "metadata": {},
   "outputs": [],
   "source": [
    "setVerbose(True)\n",
    "launch(\"docker.sas.com/honxin/xgboost_2fd01d3e-ac53-406d-86cd-ac3cc9557c57:latest\")"
   ]
  },
  {
   "cell_type": "code",
   "execution_count": null,
   "metadata": {},
   "outputs": [],
   "source": [
    "execute(\"http://10.23.13.194:30456\",\"xg_sample.csv\")"
   ]
  },
  {
   "cell_type": "code",
   "execution_count": null,
   "metadata": {},
   "outputs": [],
   "source": [
    "help(query)"
   ]
  },
  {
   "cell_type": "code",
   "execution_count": null,
   "metadata": {},
   "outputs": [],
   "source": [
    "pwd"
   ]
  }
 ],
 "metadata": {
  "kernelspec": {
   "display_name": "Python 3",
   "language": "python",
   "name": "python3"
  },
  "language_info": {
   "codemirror_mode": {
    "name": "ipython",
    "version": 3
   },
   "file_extension": ".py",
   "mimetype": "text/x-python",
   "name": "python",
   "nbconvert_exporter": "python",
   "pygments_lexer": "ipython3",
   "version": "3.6.7"
  }
 },
 "nbformat": 4,
 "nbformat_minor": 2
}
