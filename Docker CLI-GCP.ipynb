{
 "cells": [
  {
   "cell_type": "markdown",
   "metadata": {},
   "source": [
    "# Enable APIs (Container, Kubernetes) in Google Cloud Platform\n",
    "\n",
    "# Create cluster in console\n",
    "\n",
    "# Install Google Cloud SDK\n",
    "\n",
    "# Configure Docker to use gcloud tool to authenticate requests\n",
    "> gcloud auth configure-docker\n",
    "\n",
    "# Download auth token key from console and put it in the directory\n",
    "> API & Services -> Credentials: create credentials > Service account key\n",
    "\n",
    "# Fetch cluster endpoint and auth data and update kubeconfig entry\n",
    "\n",
    "> gcloud container clusters get-credentials mm-docker-models-gke --zone us-east4-a [--project <project name>]\n",
    "\n",
    "# Configure firewall to allow the node port range (30000-32767)\n",
    "> gcloud compute firewall-rules create gke-rule --allow tcp:30000-32767\n",
    "\n",
    "\n",
    "# Configure 'GCP' section in cli.properties\n"
   ]
  },
  {
   "cell_type": "code",
   "execution_count": 1,
   "metadata": {},
   "outputs": [
    {
     "name": "stdout",
     "output_type": "stream",
     "text": [
      "Loading configuration properties...\n",
      "key file: sas-tyfrec-209092a0e3d2.json\n",
      "project name: sas-tyfrec\n",
      "Login into GCP GCR...\n",
      "Login GCP GCR succeeded!\n",
      "Initializing kubernetes configuration... gke_sas-tyfrec_us-central1-a_eyap-mas\n",
      "Initialized kubernetes configuration.\n",
      "  verbose: True\n",
      "  model.repo.host: http://eyap-mas.gtp-americas.sashq-d.openstack.sas.com\n",
      "  provider.type: GCP\n",
      "  base.repo: gcr.io/sas-tyfrec/\n",
      "  base.repo.web.url: console.cloud.google.com/gcr/images/sas-tyfrec\n",
      "  kubernetes.context: gke_sas-tyfrec_us-central1-a_eyap-mas\n",
      "===================================\n"
     ]
    },
    {
     "data": {
      "text/plain": [
       "True"
      ]
     },
     "execution_count": 1,
     "metadata": {},
     "output_type": "execute_result"
    }
   ],
   "source": [
    "from mm_docker_lib import *\n",
    "initConfig(\"GCP\")"
   ]
  },
  {
   "cell_type": "code",
   "execution_count": 2,
   "metadata": {},
   "outputs": [
    {
     "name": "stdout",
     "output_type": "stream",
     "text": [
      "Getting model list...\n",
      "Model name svm (pipeline 1)\n",
      "Model UUID 56c91200-8b36-4139-afcd-8958683546df\n",
      "Model version 1.2\n",
      "Project name HMEQ\n",
      "Score Code Type ds2MultiType\n",
      "Image URL (not verified): gcr.io/sas-tyfrec/svm-pipeline-1_56c91200-8b36-4139-afcd-8958683546df:latest\n",
      "==========================\n",
      "Guides: > python mm_docker_cli.py publish <uuid>\n",
      "Guides: > python mm_docker_cli.py launch <image url>\n",
      "Guides: > python mm_docker_cli.py score <image url> <input file>\n"
     ]
    }
   ],
   "source": [
    "listmodel(\"svm\")"
   ]
  },
  {
   "cell_type": "code",
   "execution_count": 3,
   "metadata": {},
   "outputs": [
    {
     "name": "stdout",
     "output_type": "stream",
     "text": [
      "Downloading model 56c91200-8b36-4139-afcd-8958683546df from model repository...\n",
      "Images folder: /net/ge.unx.sas.com/vol/vol610/u61/tyfrec/eyapmas/images\n",
      "Model zip file has been downloaded at /net/ge.unx.sas.com/vol/vol610/u61/tyfrec/eyapmas/images/model-56c91200-8b36-4139-afcd-8958683546df/model-56c91200-8b36-4139-afcd-8958683546df.zip\n",
      "SVM (Pipeline 1) 1.2 ds2MultiType\n",
      "The name has been normalized to svm-pipeline-1\n",
      "Template folder: /net/ge.unx.sas.com/vol/vol610/u61/tyfrec/eyapmas/template\n",
      "Copying astore from shared directory...\n",
      "Make sure that the shared directory has been mounted locally\n",
      "For Windows, the local directory will be at z drive\n",
      "For Linux, the local directory will be /astore\n",
      "/astore/_99J390JZGMNE1NI0CQHB384QQ.astore\n",
      "/net/ge.unx.sas.com/vol/vol610/u61/tyfrec/eyapmas/images/model-56c91200-8b36-4139-afcd-8958683546df\n",
      "Building image...\n",
      "svm-pipeline-1_56c91200-8b36-4139-afcd-8958683546df:1.2\n",
      "svm-pipeline-1_56c91200-8b36-4139-afcd-8958683546df:latest\n",
      "Tag the image into a repository sha256:0705122764\n",
      "Docker repository URL:  gcr.io/sas-tyfrec/\n",
      "gcr.io/sas-tyfrec/svm-pipeline-1_56c91200-8b36-4139-afcd-8958683546df:1.2\n",
      "Pushing to repo...\n",
      "Pushed. Please verify it at console.cloud.google.com/gcr/images/sas-tyfrecsvm-pipeline-1_56c91200-8b36-4139-afcd-8958683546df/\n",
      "Model image URL: gcr.io/sas-tyfrec/svm-pipeline-1_56c91200-8b36-4139-afcd-8958683546df:latest\n",
      "==========================\n",
      "Guides: > python mm_docker_cli.py launch gcr.io/sas-tyfrec/svm-pipeline-1_56c91200-8b36-4139-afcd-8958683546df:latest\n",
      "Guides: > python mm_docker_cli.py score gcr.io/sas-tyfrec/svm-pipeline-1_56c91200-8b36-4139-afcd-8958683546df:latest <input file>\n"
     ]
    }
   ],
   "source": [
    "# returns the docker image URL of the container we created and pushed to our GCP repo\n",
    "container = publish(\"56c91200-8b36-4139-afcd-8958683546df\")"
   ]
  },
  {
   "cell_type": "code",
   "execution_count": 4,
   "metadata": {},
   "outputs": [
    {
     "name": "stdout",
     "output_type": "stream",
     "text": [
      "Validating image repository url...\n",
      "Completed validation.\n",
      "Launching container instance...\n",
      "gcr.io/sas-tyfrec/svm-pipeline-1_56c91200-8b36-4139-afcd-8958683546df:latest\n",
      "svm-pipeline-1\n",
      "Deployment created. \n",
      "Deployment name:  svm-pipeline-1-8m53un\n",
      "Service created.\n",
      "Getting service url...\n",
      "Service URL:  http://35.188.175.53:31302\n",
      "==========================\n",
      "Checking whether the instance is up or not...\n",
      "1 ==Sleep 10 seconds...\n",
      "Checking whether the instance is up or not...\n",
      "Instance is up!\n",
      "Guides: > python mm_docker_cli.py execute  http://35.188.175.53:31302 <input file>\n",
      "Guides: > python mm_docker_cli.py stop svm-pipeline-1-8m53un\n"
     ]
    }
   ],
   "source": [
    "# launches the container into GCP Kubernetes engine.\n",
    "# Returns a tuple of the form: (kubernetes-deployment-id, http://URL-of-service:1234)\n",
    "deployment = launch(container)"
   ]
  },
  {
   "cell_type": "code",
   "execution_count": 5,
   "metadata": {},
   "outputs": [
    {
     "name": "stdout",
     "output_type": "stream",
     "text": [
      "Performing scoring in the container instance...\n",
      "service_url: http://35.188.175.53:31302\n",
      "csv_file: hmeq_test.csv\n",
      "{'id': '1553275146.9801204', 'status': 201}\n",
      "The test_id from score execution: 1553275146.9801204\n",
      "==========================\n",
      "Guides: > python mm_docker_cli.py query http://35.188.175.53:31302/ 1553275146.9801204\n"
     ]
    }
   ],
   "source": [
    "# Scores the input file against the scoring service.\n",
    "# Returns an id of the score\n",
    "test_id = execute(deployment[1], \"hmeq_test.csv\")"
   ]
  },
  {
   "cell_type": "code",
   "execution_count": 6,
   "metadata": {},
   "outputs": [
    {
     "name": "stdout",
     "output_type": "stream",
     "text": [
      "service_url: http://35.188.175.53:31302\n",
      "test_id: 1553275146.9801204\n",
      "The test result has been retrieved and written into file 1553275146.9801204.csv\n",
      "Head is the first 5 lines\n",
      "EM_CLASSIFICATION,EM_EVENTPROBABILITY,EM_PROBABILITY,I_BAD,P_BAD0,P_BAD1,_P_,_WARN_\n",
      "0                               ,5.807186e-10,1.0,0                               ,1.0,5.807186e-10,1.0,\n",
      "0                               ,6.6705796e-10,1.0,0                               ,1.0,6.6705796e-10,1.0,\n",
      "0                               ,5.7110605e-10,1.0,0                               ,1.0,5.7110605e-10,1.0,\n",
      "1                               ,0.82900435,0.82900435,1                               ,0.17099567,0.82900435,-1.5353535,\n",
      "==========================\n",
      "Guides: 1) remember to stop instance after uage. You can find the deployment name by running\n",
      "    > kubectl get deployment\n",
      "Then execute: > python mm_docker_cli.py stop <deployment_name>\n",
      "Guides: 2) if result file includes error message, you could find the pod name and debug inside the instance as below\n",
      "    > kubectl get pod\n",
      "    > kubectl exec -it <pod name> -- /bin/bash\n"
     ]
    },
    {
     "data": {
      "text/plain": [
       "'1553275146.9801204.csv'"
      ]
     },
     "execution_count": 6,
     "metadata": {},
     "output_type": "execute_result"
    }
   ],
   "source": [
    "query(service_url=deployment[1],test_id=test_id)"
   ]
  },
  {
   "cell_type": "code",
   "execution_count": 7,
   "metadata": {},
   "outputs": [
    {
     "name": "stdout",
     "output_type": "stream",
     "text": [
      "svm-pipeline-1-8m53un\n",
      "Deleting service svm-pipeline-1-8m53un\n",
      "deleted svc/svm-pipeline-1-8m53un from ns/default\n",
      "Deleting app deployment... svm-pipeline-1-8m53un\n",
      "Deletion succeeded\n"
     ]
    }
   ],
   "source": [
    "stop(deployment_name=deployment[0])"
   ]
  },
  {
   "cell_type": "code",
   "execution_count": 8,
   "metadata": {},
   "outputs": [
    {
     "name": "stdout",
     "output_type": "stream",
     "text": [
      "Validating image repository url...\n",
      "Completed validation.\n",
      "Launching container instance...\n",
      "gcr.io/sas-tyfrec/svm-pipeline-1_56c91200-8b36-4139-afcd-8958683546df:latest\n",
      "svm-pipeline-1\n",
      "Deployment created. \n",
      "Deployment name:  svm-pipeline-1-5frk68\n",
      "Service created.\n",
      "Getting service url...\n",
      "Service URL:  http://35.188.175.53:31267\n",
      "==========================\n",
      "Checking whether the instance is up or not...\n",
      "1 ==Sleep 10 seconds...\n",
      "Checking whether the instance is up or not...\n",
      "Instance is up!\n",
      "Guides: > python mm_docker_cli.py execute  http://35.188.175.53:31267 <input file>\n",
      "Guides: > python mm_docker_cli.py stop svm-pipeline-1-5frk68\n",
      "===============================\n",
      "Performing scoring in the container instance...\n",
      "service_url: http://35.188.175.53:31267\n",
      "csv_file: hmeq_test.csv\n",
      "{'id': '1553275173.045694', 'status': 201}\n",
      "The test_id from score execution: 1553275173.045694\n",
      "==========================\n",
      "Guides: > python mm_docker_cli.py query http://35.188.175.53:31267/ 1553275173.045694\n",
      "===============================\n",
      "service_url: http://35.188.175.53:31267\n",
      "test_id: 1553275173.045694\n",
      "The test result has been retrieved and written into file 1553275173.045694.csv\n",
      "Head is the first 5 lines\n",
      "EM_CLASSIFICATION,EM_EVENTPROBABILITY,EM_PROBABILITY,I_BAD,P_BAD0,P_BAD1,_P_,_WARN_\n",
      "0                               ,5.807186e-10,1.0,0                               ,1.0,5.807186e-10,1.0,\n",
      "0                               ,6.6705796e-10,1.0,0                               ,1.0,6.6705796e-10,1.0,\n",
      "0                               ,5.7110605e-10,1.0,0                               ,1.0,5.7110605e-10,1.0,\n",
      "1                               ,0.82900435,0.82900435,1                               ,0.17099567,0.82900435,-1.5353535,\n",
      "==========================\n",
      "Guides: 1) remember to stop instance after uage. You can find the deployment name by running\n",
      "    > kubectl get deployment\n",
      "Then execute: > python mm_docker_cli.py stop <deployment_name>\n",
      "Guides: 2) if result file includes error message, you could find the pod name and debug inside the instance as below\n",
      "    > kubectl get pod\n",
      "    > kubectl exec -it <pod name> -- /bin/bash\n",
      "===============================\n",
      "svm-pipeline-1-5frk68\n",
      "Deleting service svm-pipeline-1-5frk68\n",
      "deleted svc/svm-pipeline-1-5frk68 from ns/default\n",
      "Deleting app deployment... svm-pipeline-1-5frk68\n",
      "Deletion succeeded\n"
     ]
    }
   ],
   "source": [
    "score(container, \"hmeq_test.csv\")"
   ]
  },
  {
   "cell_type": "code",
   "execution_count": null,
   "metadata": {},
   "outputs": [],
   "source": []
  }
 ],
 "metadata": {
  "kernelspec": {
   "display_name": "Python 3",
   "language": "python",
   "name": "python3"
  },
  "language_info": {
   "codemirror_mode": {
    "name": "ipython",
    "version": 3
   },
   "file_extension": ".py",
   "mimetype": "text/x-python",
   "name": "python",
   "nbconvert_exporter": "python",
   "pygments_lexer": "ipython3",
   "version": "3.7.1"
  }
 },
 "nbformat": 4,
 "nbformat_minor": 2
}
