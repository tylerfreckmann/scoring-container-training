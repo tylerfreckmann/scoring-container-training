{
 "cells": [
  {
   "cell_type": "markdown",
   "metadata": {},
   "source": [
    "# Enable APIs (Container, Kubernetes) in Google Cloud Platform\n",
    "\n",
    "# Create cluster in console\n",
    "\n",
    "# Install Google Cloud SDK\n",
    "\n",
    "# Configure Docker to use gcloud tool to authenticate requests\n",
    "> gcloud auth configure-docker\n",
    "\n",
    "# Download auth token key from console and put it in the directory\n",
    "> API & Services -> Credentials: create credentials > Service account key\n",
    "\n",
    "# Fetch cluster endpoint and auth data and update kubeconfig entry\n",
    "\n",
    "> gcloud container clusters get-credentials mm-docker-models-gke --zone us-east4-a [--project <project name>]\n",
    "\n",
    "# Configure firewall to allow the node port range (30000-32767)\n",
    "> gcloud compute firewall-rules create gke-rule --allow tcp:30000-32767\n",
    "\n",
    "\n",
    "# Configure 'GCP' section in cli.properties\n"
   ]
  },
  {
   "cell_type": "code",
   "execution_count": 1,
   "metadata": {},
   "outputs": [
    {
     "name": "stdout",
     "output_type": "stream",
     "text": [
      "Loading configuration properties...\n",
      "key file: sas-tyfrec-209092a0e3d2.json\n",
      "project name: sas-tyfrec\n",
      "Login into GCP GCR...\n",
      "Login GCP GCR succeeded!\n",
      "Initializing kubernetes configuration... gke_sas-tyfrec_us-central1-a_eyap-mas\n",
      "Initialized kubernetes configuration.\n",
      "  verbose: True\n",
      "  model.repo.host: http://gtp-viya.openstack.sas.com\n",
      "  provider.type: GCP\n",
      "  base.repo: gcr.io/sas-tyfrec/\n",
      "  base.repo.web.url: console.cloud.google.com/gcr/images/sas-tyfrec\n",
      "  kubernetes.context: gke_sas-tyfrec_us-central1-a_eyap-mas\n",
      "===================================\n"
     ]
    },
    {
     "data": {
      "text/plain": [
       "True"
      ]
     },
     "execution_count": 1,
     "metadata": {},
     "output_type": "execute_result"
    }
   ],
   "source": [
    "from mm_docker_lib import *\n",
    "initConfig(\"GCP\")"
   ]
  },
  {
   "cell_type": "code",
   "execution_count": 3,
   "metadata": {},
   "outputs": [
    {
     "name": "stdout",
     "output_type": "stream",
     "text": [
      "Getting model list...\n",
      "Model name svm (pipeline 1)\n",
      "Model UUID 4ac36c21-afbd-40a8-820b-0c4cf6b41430\n",
      "Model version 1.1\n",
      "Project name EYAP_tyfrec_test\n",
      "Score Code Type ds2MultiType\n",
      "Image URL (not verified): gcr.io/sas-tyfrec/svm-pipeline-1_4ac36c21-afbd-40a8-820b-0c4cf6b41430:latest\n",
      "==========================\n",
      "Guides: > python mm_docker_cli.py publish <uuid>\n",
      "Guides: > python mm_docker_cli.py launch <image url>\n",
      "Guides: > python mm_docker_cli.py score <image url> <input file>\n"
     ]
    }
   ],
   "source": [
    "listmodel(\"svm\")"
   ]
  },
  {
   "cell_type": "code",
   "execution_count": 5,
   "metadata": {},
   "outputs": [
    {
     "name": "stdout",
     "output_type": "stream",
     "text": [
      "Downloading model 4ac36c21-afbd-40a8-820b-0c4cf6b41430 from model repository...\n",
      "Images folder: /net/ge.unx.sas.com/vol/vol610/u61/tyfrec/eyapmas/images\n",
      "Model zip file has been downloaded at /net/ge.unx.sas.com/vol/vol610/u61/tyfrec/eyapmas/images/model-4ac36c21-afbd-40a8-820b-0c4cf6b41430/model-4ac36c21-afbd-40a8-820b-0c4cf6b41430.zip\n",
      "SVM (Pipeline 1) 1.1 ds2MultiType\n",
      "The name has been normalized to svm-pipeline-1\n",
      "Template folder: /net/ge.unx.sas.com/vol/vol610/u61/tyfrec/eyapmas/template\n",
      "Copying astore from shared directory...\n",
      "Make sure that the shared directory has been mounted locally\n",
      "For Windows, the local directory will be at z drive\n",
      "For Linux, the local directory will be /astore\n",
      "/astore/_1Q90JQSWYWIDH1M94NNHHBBWET.astore\n",
      "/net/ge.unx.sas.com/vol/vol610/u61/tyfrec/eyapmas/images/model-4ac36c21-afbd-40a8-820b-0c4cf6b41430\n",
      "Building image...\n",
      "svm-pipeline-1_4ac36c21-afbd-40a8-820b-0c4cf6b41430:1.1\n",
      "svm-pipeline-1_4ac36c21-afbd-40a8-820b-0c4cf6b41430:latest\n",
      "Tag the image into a repository sha256:f10bd43b71\n",
      "Docker repository URL:  gcr.io/sas-tyfrec/\n",
      "gcr.io/sas-tyfrec/svm-pipeline-1_4ac36c21-afbd-40a8-820b-0c4cf6b41430:1.1\n",
      "Pushing to repo...\n",
      "Pushed. Please verify it at console.cloud.google.com/gcr/images/sas-tyfrecsvm-pipeline-1_4ac36c21-afbd-40a8-820b-0c4cf6b41430/\n",
      "Model image URL: gcr.io/sas-tyfrec/svm-pipeline-1_4ac36c21-afbd-40a8-820b-0c4cf6b41430:latest\n",
      "==========================\n",
      "Guides: > python mm_docker_cli.py launch gcr.io/sas-tyfrec/svm-pipeline-1_4ac36c21-afbd-40a8-820b-0c4cf6b41430:latest\n",
      "Guides: > python mm_docker_cli.py score gcr.io/sas-tyfrec/svm-pipeline-1_4ac36c21-afbd-40a8-820b-0c4cf6b41430:latest <input file>\n"
     ]
    }
   ],
   "source": [
    "# returns the docker image URL of the container we created and pushed to our GCP repo\n",
    "container = publish(\"4ac36c21-afbd-40a8-820b-0c4cf6b41430\")"
   ]
  },
  {
   "cell_type": "code",
   "execution_count": 6,
   "metadata": {},
   "outputs": [
    {
     "name": "stdout",
     "output_type": "stream",
     "text": [
      "Validating image repository url...\n",
      "Completed validation.\n",
      "Launching container instance...\n",
      "gcr.io/sas-tyfrec/svm-pipeline-1_4ac36c21-afbd-40a8-820b-0c4cf6b41430:latest\n",
      "svm-pipeline-1\n",
      "Deployment created. \n",
      "Deployment name:  svm-pipeline-1-pd45cs\n",
      "Service created.\n",
      "Getting service url...\n",
      "Service URL:  http://35.188.175.53:32207\n",
      "==========================\n",
      "Checking whether the instance is up or not...\n",
      "1 ==Sleep 10 seconds...\n",
      "Checking whether the instance is up or not...\n",
      "Instance is up!\n",
      "Guides: > python mm_docker_cli.py execute  http://35.188.175.53:32207 <input file>\n",
      "Guides: > python mm_docker_cli.py stop svm-pipeline-1-pd45cs\n"
     ]
    }
   ],
   "source": [
    "# launches the container into GCP Kubernetes engine.\n",
    "# Returns a tuple of the form: (kubernetes-deployment-id, http://URL-of-service:1234)\n",
    "deployment = launch(container)"
   ]
  },
  {
   "cell_type": "code",
   "execution_count": 8,
   "metadata": {},
   "outputs": [
    {
     "name": "stdout",
     "output_type": "stream",
     "text": [
      "Performing scoring in the container instance...\n",
      "service_url: http://35.188.175.53:32207\n",
      "csv_file: hmeq_test.csv\n",
      "{'id': '1553270697.7237422', 'status': 201}\n",
      "The test_id from score execution: 1553270697.7237422\n",
      "==========================\n",
      "Guides: > python mm_docker_cli.py query http://35.188.175.53:32207/ 1553270697.7237422\n"
     ]
    }
   ],
   "source": [
    "# Scores the input file against the scoring service.\n",
    "# Returns an id of the score\n",
    "test_id = execute(deployment[1], \"hmeq_test.csv\")"
   ]
  },
  {
   "cell_type": "code",
   "execution_count": 9,
   "metadata": {},
   "outputs": [
    {
     "name": "stdout",
     "output_type": "stream",
     "text": [
      "service_url: http://35.188.175.53:32207\n",
      "test_id: 1553270697.7237422\n",
      "The test result has been retrieved and written into file 1553270697.7237422.csv\n",
      "Head is the first 5 lines\n",
      "EM_CLASSIFICATION,EM_EVENTPROBABILITY,EM_PROBABILITY,I_BAD,P_BAD0,P_BAD1,_P_,_WARN_\n",
      "0                               ,0.00019667529,0.9998033,0                               ,0.9998033,0.00019667529,1.0000238,\n",
      "0                               ,0.00021125952,0.99978876,0                               ,0.99978876,0.00021125952,0.9999947,\n",
      "0                               ,0.0001889327,0.99981105,0                               ,0.99981105,0.0001889327,1.0000393,\n",
      "1                               ,0.7044128,0.7044128,1                               ,0.29558718,0.7044128,-1.225961,\n",
      "==========================\n",
      "Guides: 1) remember to stop instance after uage. You can find the deployment name by running\n",
      "    > kubectl get deployment\n",
      "Then execute: > python mm_docker_cli.py stop <deployment_name>\n",
      "Guides: 2) if result file includes error message, you could find the pod name and debug inside the instance as below\n",
      "    > kubectl get pod\n",
      "    > kubectl exec -it <pod name> -- /bin/bash\n"
     ]
    },
    {
     "data": {
      "text/plain": [
       "'1553270697.7237422.csv'"
      ]
     },
     "execution_count": 9,
     "metadata": {},
     "output_type": "execute_result"
    }
   ],
   "source": [
    "query(service_url=deployment[1],test_id=test_id)"
   ]
  },
  {
   "cell_type": "code",
   "execution_count": 10,
   "metadata": {},
   "outputs": [
    {
     "name": "stdout",
     "output_type": "stream",
     "text": [
      "svm-pipeline-1-pd45cs\n",
      "Deleting service svm-pipeline-1-pd45cs\n",
      "deleted svc/svm-pipeline-1-pd45cs from ns/default\n",
      "Deleting app deployment... svm-pipeline-1-pd45cs\n",
      "Deletion succeeded\n"
     ]
    }
   ],
   "source": [
    "stop(deployment_name=deployment[0])"
   ]
  },
  {
   "cell_type": "code",
   "execution_count": 11,
   "metadata": {},
   "outputs": [
    {
     "name": "stdout",
     "output_type": "stream",
     "text": [
      "Validating image repository url...\n",
      "Completed validation.\n",
      "Launching container instance...\n",
      "gcr.io/sas-tyfrec/svm-pipeline-1_4ac36c21-afbd-40a8-820b-0c4cf6b41430:latest\n",
      "svm-pipeline-1\n",
      "Deployment created. \n",
      "Deployment name:  svm-pipeline-1-180e5g\n",
      "Service created.\n",
      "Getting service url...\n",
      "Service URL:  http://35.188.175.53:32257\n",
      "==========================\n",
      "Checking whether the instance is up or not...\n",
      "1 ==Sleep 10 seconds...\n",
      "Checking whether the instance is up or not...\n",
      "Instance is up!\n",
      "Guides: > python mm_docker_cli.py execute  http://35.188.175.53:32257 <input file>\n",
      "Guides: > python mm_docker_cli.py stop svm-pipeline-1-180e5g\n",
      "===============================\n",
      "Performing scoring in the container instance...\n",
      "service_url: http://35.188.175.53:32257\n",
      "csv_file: hmeq_test.csv\n",
      "{'id': '1553270798.3480272', 'status': 201}\n",
      "The test_id from score execution: 1553270798.3480272\n",
      "==========================\n",
      "Guides: > python mm_docker_cli.py query http://35.188.175.53:32257/ 1553270798.3480272\n",
      "===============================\n",
      "service_url: http://35.188.175.53:32257\n",
      "test_id: 1553270798.3480272\n",
      "The test result has been retrieved and written into file 1553270798.3480272.csv\n",
      "Head is the first 5 lines\n",
      "EM_CLASSIFICATION,EM_EVENTPROBABILITY,EM_PROBABILITY,I_BAD,P_BAD0,P_BAD1,_P_,_WARN_\n",
      "0                               ,0.00019667529,0.9998033,0                               ,0.9998033,0.00019667529,1.0000238,\n",
      "0                               ,0.00021125952,0.99978876,0                               ,0.99978876,0.00021125952,0.9999947,\n",
      "0                               ,0.0001889327,0.99981105,0                               ,0.99981105,0.0001889327,1.0000393,\n",
      "1                               ,0.7044128,0.7044128,1                               ,0.29558718,0.7044128,-1.225961,\n",
      "==========================\n",
      "Guides: 1) remember to stop instance after uage. You can find the deployment name by running\n",
      "    > kubectl get deployment\n",
      "Then execute: > python mm_docker_cli.py stop <deployment_name>\n",
      "Guides: 2) if result file includes error message, you could find the pod name and debug inside the instance as below\n",
      "    > kubectl get pod\n",
      "    > kubectl exec -it <pod name> -- /bin/bash\n",
      "===============================\n",
      "svm-pipeline-1-180e5g\n",
      "Deleting service svm-pipeline-1-180e5g\n",
      "deleted svc/svm-pipeline-1-180e5g from ns/default\n",
      "Deleting app deployment... svm-pipeline-1-180e5g\n",
      "Deletion succeeded\n"
     ]
    }
   ],
   "source": [
    "score(container, \"hmeq_test.csv\")"
   ]
  }
 ],
 "metadata": {
  "kernelspec": {
   "display_name": "Python 3",
   "language": "python",
   "name": "python3"
  },
  "language_info": {
   "codemirror_mode": {
    "name": "ipython",
    "version": 3
   },
   "file_extension": ".py",
   "mimetype": "text/x-python",
   "name": "python",
   "nbconvert_exporter": "python",
   "pygments_lexer": "ipython3",
   "version": "3.7.1"
  }
 },
 "nbformat": 4,
 "nbformat_minor": 2
}
